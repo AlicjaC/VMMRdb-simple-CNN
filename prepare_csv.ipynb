{
 "cells": [
  {
   "cell_type": "code",
   "execution_count": 11,
   "metadata": {},
   "outputs": [],
   "source": [
    "import numpy as np\n",
    "import pandas as pd\n",
    "import io\n",
    "import requests\n",
    "import zipfile\n",
    "import os\n",
    "import csv"
   ]
  },
  {
   "cell_type": "code",
   "execution_count": 2,
   "metadata": {},
   "outputs": [],
   "source": [
    "\"\"\"\n",
    "download_path = 'http://vmmrdb.cecsresearch.org/Dataset/VMMRdb.zip'\n",
    "\n",
    "r = requests.get(download_path)\n",
    "\n",
    "with zipfile.ZipFile(io.BytesIO(r.content)) as z:\n",
    "    z.extractall('Car_Dataset')\n",
    "\n",
    "\"\"\""
   ]
  },
  {
   "cell_type": "code",
   "execution_count": 75,
   "metadata": {},
   "outputs": [],
   "source": [
    "def createDictionaries():\n",
    "    #Check if you are in correct folder\n",
    "    if 'Car_Dataset' not in os.getcwd():\n",
    "        try:\n",
    "            os.chdir('./Car_Dataset')\n",
    "        except:\n",
    "            print('Change cwd to where the data is.')\n",
    "            \n",
    "    dictionaries_list = []\n",
    "#go through the list of dir names\n",
    "    for directory in os.listdir():\n",
    "        make = directory.split('_')[0]\n",
    "        model = directory[len(make)+1:-5]\n",
    "        year = directory[-4:]\n",
    "        \n",
    "#go through the directory and write image path names with describtion to dictionary        \n",
    "        for path in os.listdir(directory):\n",
    "            \n",
    "            dictionary = {'path': directory + '/' + path, 'make': str(make), 'model': str(model),\n",
    "                          'year_of_production': year}\n",
    "        \n",
    "            dictionaries_list.append(dictionary)\n",
    "        \n",
    "    return dictionaries_list"
   ]
  },
  {
   "cell_type": "code",
   "execution_count": 79,
   "metadata": {},
   "outputs": [],
   "source": [
    "def createCSV():\n",
    "    with open('../cars.csv', 'w') as csvfile:\n",
    "        fieldnames = ['path', 'make', 'model', 'year_of_production']\n",
    "        writer = csv.DictWriter(csvfile, delimiter=';', fieldnames=fieldnames)\n",
    "\n",
    "        writer.writeheader()\n",
    "        \n",
    "        for dictionary in createDictionaries():\n",
    "            writer.writerow(dictionary)"
   ]
  },
  {
   "cell_type": "code",
   "execution_count": 63,
   "metadata": {},
   "outputs": [
    {
     "data": {
      "text/plain": [
       "'/home/ubuntu/Zadanie_3/Car_Dataset'"
      ]
     },
     "execution_count": 63,
     "metadata": {},
     "output_type": "execute_result"
    }
   ],
   "source": [
    "os.getcwd()"
   ]
  },
  {
   "cell_type": "code",
   "execution_count": 80,
   "metadata": {},
   "outputs": [],
   "source": [
    "createCSV()"
   ]
  },
  {
   "cell_type": "code",
   "execution_count": null,
   "metadata": {},
   "outputs": [],
   "source": []
  },
  {
   "cell_type": "code",
   "execution_count": 74,
   "metadata": {},
   "outputs": [
    {
     "name": "stdout",
     "output_type": "stream",
     "text": [
      "285087\n",
      "9171\n"
     ]
    }
   ],
   "source": [
    "counter = 0\n",
    "counter_model = 0\n",
    "for direc in os.listdir():\n",
    "    counter += len(os.listdir(direc))\n",
    "    counter_model += 1\n",
    "print(counter)\n",
    "print(counter_model)"
   ]
  },
  {
   "cell_type": "code",
   "execution_count": null,
   "metadata": {},
   "outputs": [],
   "source": []
  },
  {
   "cell_type": "code",
   "execution_count": 33,
   "metadata": {},
   "outputs": [
    {
     "data": {
      "text/plain": [
       "'2016'"
      ]
     },
     "execution_count": 33,
     "metadata": {},
     "output_type": "execute_result"
    }
   ],
   "source": [
    "os.listdir()[0].split('_')[2]"
   ]
  }
 ],
 "metadata": {
  "kernelspec": {
   "display_name": "Environment (conda_tensorflow_p36)",
   "language": "python",
   "name": "conda_tensorflow_p36"
  },
  "language_info": {
   "codemirror_mode": {
    "name": "ipython",
    "version": 3
   },
   "file_extension": ".py",
   "mimetype": "text/x-python",
   "name": "python",
   "nbconvert_exporter": "python",
   "pygments_lexer": "ipython3",
   "version": "3.6.5"
  }
 },
 "nbformat": 4,
 "nbformat_minor": 2
}
