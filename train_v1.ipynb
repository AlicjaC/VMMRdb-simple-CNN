{
 "cells": [
  {
   "cell_type": "code",
   "execution_count": null,
   "metadata": {},
   "outputs": [],
   "source": [
    "from __future__ import absolute_import, division, print_function, unicode_literals\n",
    "import numpy as np\n",
    "import pandas as pd\n",
    "import os\n",
    "import cv2\n",
    "import matplotlib.pyplot as plt\n",
    "from collections import Counter\n",
    "import datetime\n",
    "import math\n",
    "from sklearn.model_selection import train_test_split\n",
    "import tensorflow as tf\n",
    "from tensorflow import keras\n",
    "from tensorflow.keras import datasets, layers, models\n",
    "from tensorflow.keras.utils import multi_gpu_model\n",
    "from livelossplot.inputs.tf_keras import PlotLossesCallback"
   ]
  },
  {
   "cell_type": "code",
   "execution_count": null,
   "metadata": {},
   "outputs": [],
   "source": [
    "column_names = ['path', 'make', 'model', 'year_of_production']\n",
    "raw_dataset = pd.read_csv('./cars.csv', names = column_names, sep=';',\n",
    "                      dtype={\"path\": str, \"make\": str, 'model': str, 'year_of_production': str})\n",
    "\n",
    "raw_dataset = raw_dataset[raw_dataset.path != 'path']\n",
    "raw_dataset = raw_dataset[raw_dataset.year_of_production != 'ints']\n",
    "\n",
    "train_paths = raw_dataset['path'].values.tolist()\n",
    "make = raw_dataset['make'].values.tolist()\n",
    "\n",
    "BATCH_SIZE = 16\n",
    "IMG_WIDTH = 220\n",
    "IMG_HEIGHT = 220"
   ]
  },
  {
   "cell_type": "code",
   "execution_count": null,
   "metadata": {},
   "outputs": [],
   "source": [
    "def prepare_image(path):\n",
    "    img = cv2.imread(path)\n",
    "    img = cv2.resize(img, (IMG_WIDTH, IMG_HEIGHT), interpolation = cv2.INTER_AREA)\n",
    "    img = img/255.0\n",
    "    return img"
   ]
  },
  {
   "cell_type": "code",
   "execution_count": null,
   "metadata": {},
   "outputs": [],
   "source": [
    "os.chdir('Car_Dataset')"
   ]
  },
  {
   "cell_type": "code",
   "execution_count": null,
   "metadata": {},
   "outputs": [],
   "source": [
    "CLASS_NAMES_MAKE = np.array(np.unique([name for name in make]))"
   ]
  },
  {
   "cell_type": "code",
   "execution_count": null,
   "metadata": {},
   "outputs": [],
   "source": [
    "def get_label_make(labels):\n",
    "    make = tf.strings.split(labels, '_')[0]\n",
    "    return make == CLASS_NAMES_MAKE"
   ]
  },
  {
   "cell_type": "code",
   "execution_count": null,
   "metadata": {},
   "outputs": [],
   "source": [
    "images = []\n",
    "label_make = []\n",
    "for path in train_paths:\n",
    "    images.append(prepare_image(path))\n",
    "    label_make.append(path)\n",
    "images = np.array(images)\n",
    "label_make = np.array(label_make)"
   ]
  },
  {
   "cell_type": "code",
   "execution_count": null,
   "metadata": {},
   "outputs": [],
   "source": [
    "image_input = keras.Input(shape=(IMG_WIDTH, IMG_HEIGHT, 3), name='image')\n",
    "x = layers.Conv2D(32, (3, 3), activation='relu')(image_input)\n",
    "x = layers.MaxPooling2D()(x)\n",
    "x = layers.Conv2D(32, (3, 3), activation='relu')(x)\n",
    "x = layers.MaxPooling2D()(x)\n",
    "x = layers.Flatten()(x)\n",
    "x = layers.Dense(64, activation='relu')(x)\n",
    "x = layers.Dense(64, activation='relu')(x)\n",
    "\n",
    "output_make = layers.Dense(len(CLASS_NAMES_MAKE), activation='softmax', name='output_make')(x)\n",
    "\n",
    "model = keras.Model(inputs=image_input, outputs=output_make, name='cars_model')"
   ]
  },
  {
   "cell_type": "code",
   "execution_count": null,
   "metadata": {},
   "outputs": [],
   "source": [
    "model.compile(optimizer='adam',\n",
    "              loss='categorical_crossentropy',\n",
    "              metrics=['acc'])"
   ]
  },
  {
   "cell_type": "code",
   "execution_count": null,
   "metadata": {},
   "outputs": [],
   "source": [
    "plot_losses = PlotLossesCallback()\n",
    "model.fit(images, makes,\n",
    "          epochs = 20,\n",
    "          batch_size = BATCH_SIZE,\n",
    "          callbacks=[plot_losses])"
   ]
  }
 ],
 "metadata": {
  "kernelspec": {
   "display_name": "Python 3",
   "language": "python",
   "name": "python3"
  },
  "language_info": {
   "codemirror_mode": {
    "name": "ipython",
    "version": 3
   },
   "file_extension": ".py",
   "mimetype": "text/x-python",
   "name": "python",
   "nbconvert_exporter": "python",
   "pygments_lexer": "ipython3",
   "version": "3.6.5"
  }
 },
 "nbformat": 4,
 "nbformat_minor": 2
}
