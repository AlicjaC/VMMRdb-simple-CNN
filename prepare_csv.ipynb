{
 "cells": [
  {
   "cell_type": "code",
   "execution_count": null,
   "metadata": {},
   "outputs": [],
   "source": [
    "import numpy as np\n",
    "import pandas as pd\n",
    "import io\n",
    "import requests\n",
    "import zipfile\n",
    "import os\n",
    "import csv"
   ]
  },
  {
   "cell_type": "code",
   "execution_count": null,
   "metadata": {},
   "outputs": [],
   "source": [
    "download_path = 'http://vmmrdb.cecsresearch.org/Dataset/VMMRdb.zip'\n",
    "\n",
    "r = requests.get(download_path)\n",
    "\n",
    "with zipfile.ZipFile(io.BytesIO(r.content)) as z:\n",
    "    z.extractall('Car_Dataset')"
   ]
  },
  {
   "cell_type": "code",
   "execution_count": null,
   "metadata": {},
   "outputs": [],
   "source": [
    "def createDictionaries():\n",
    "    # Check if you are in correct folder\n",
    "    if 'Car_Dataset' not in os.getcwd():\n",
    "        try:\n",
    "            os.chdir('./Car_Dataset')\n",
    "        except:\n",
    "            print('Change cwd to where the data is.')\n",
    "            \n",
    "    dictionaries_list = []\n",
    "# go through the list of dir names\n",
    "    for directory in os.listdir():\n",
    "        make = directory.split('_')[0]\n",
    "        model = directory[len(make)+1:-5]\n",
    "        year = directory[-4:]\n",
    "        \n",
    "# go through the directory and write image path names with describtion to dictionary        \n",
    "        for path in os.listdir(directory):\n",
    "            \n",
    "            dictionary = {'path': directory + '/' + path, 'make': str(make), 'model': str(model),\n",
    "                          'year_of_production': year}\n",
    "        \n",
    "            dictionaries_list.append(dictionary)\n",
    "        \n",
    "    return dictionaries_list"
   ]
  },
  {
   "cell_type": "code",
   "execution_count": null,
   "metadata": {},
   "outputs": [],
   "source": [
    "def createCSV():\n",
    "    with open('./cars.csv', 'w') as csvfile:\n",
    "        fieldnames = ['path', 'make', 'model', 'year_of_production']\n",
    "        writer = csv.DictWriter(csvfile, delimiter=';', fieldnames=fieldnames)\n",
    "\n",
    "        writer.writeheader()\n",
    "        \n",
    "        for dictionary in createDictionaries():\n",
    "            writer.writerow(dictionary)"
   ]
  },
  {
   "cell_type": "code",
   "execution_count": null,
   "metadata": {},
   "outputs": [],
   "source": [
    "createCSV()"
   ]
  }
 ],
 "metadata": {
  "kernelspec": {
   "display_name": "Python [conda env:tf2_ala]",
   "language": "python",
   "name": "conda-env-tf2_ala-py"
  },
  "language_info": {
   "codemirror_mode": {
    "name": "ipython",
    "version": 3
   },
   "file_extension": ".py",
   "mimetype": "text/x-python",
   "name": "python",
   "nbconvert_exporter": "python",
   "pygments_lexer": "ipython3",
   "version": "3.6.5"
  }
 },
 "nbformat": 4,
 "nbformat_minor": 2
}
