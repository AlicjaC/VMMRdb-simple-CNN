{
 "cells": [
  {
   "cell_type": "code",
   "execution_count": null,
   "metadata": {},
   "outputs": [],
   "source": [
    "from __future__ import absolute_import, division, print_function, unicode_literals\n",
    "import numpy as np\n",
    "import pandas as pd\n",
    "import os\n",
    "import cv2\n",
    "import matplotlib.pyplot as plt\n",
    "from collections import Counter\n",
    "import datetime\n",
    "import math\n",
    "from sklearn.model_selection import train_test_split\n",
    "import tensorflow as tf\n",
    "from tensorflow import keras\n",
    "from tensorflow.keras import datasets, layers, models\n",
    "from tensorflow.keras.utils import multi_gpu_model\n",
    "from livelossplot.tf_keras import PlotLossesCallback"
   ]
  },
  {
   "cell_type": "code",
   "execution_count": null,
   "metadata": {},
   "outputs": [],
   "source": [
    "column_names = ['path', 'make', 'model', 'year_of_production']\n",
    "raw_dataset = pd.read_csv('/home/ubuntu/Zadanie_3/cars.csv', names = column_names, sep=';',\n",
    "                      dtype={\"path\": str, \"make\": str, 'model': str, 'year_of_production': str})\n",
    "\n",
    "raw_dataset = raw_dataset[raw_dataset.path != 'path']\n",
    "raw_dataset = raw_dataset[raw_dataset.year_of_production != 'ints']\n",
    "\n",
    "train_paths = raw_dataset['path'].values.tolist()\n",
    "make = raw_dataset['make'].values.tolist()\n",
    "model = raw_dataset['model'].values.tolist()\n",
    "year = raw_dataset['year_of_production'].values.tolist()\n",
    "\n",
    "BATCH_SIZE = 16\n",
    "IMG_WIDTH = 440\n",
    "IMG_HEIGHT = 220"
   ]
  },
  {
   "cell_type": "code",
   "execution_count": null,
   "metadata": {},
   "outputs": [],
   "source": [
    "def prepare_image(path):\n",
    "    img = cv2.imread(path)\n",
    "    img = cv2.resize(img, (IMG_WIDTH, IMG_HEIGHT), interpolation = cv2.INTER_AREA)\n",
    "    img = cv2.normalize(img,  img, -0.5, 0.5, cv2.NORM_MINMAX)\n",
    "    return img"
   ]
  },
  {
   "cell_type": "code",
   "execution_count": null,
   "metadata": {},
   "outputs": [],
   "source": [
    "os.chdir('Car_Dataset')"
   ]
  },
  {
   "cell_type": "code",
   "execution_count": null,
   "metadata": {},
   "outputs": [],
   "source": [
    "CLASS_NAMES_MAKE = np.array(np.unique([name for name in make]))\n",
    "CLASS_NAMES_MODEL = np.array(np.unique([name for name in model]))\n",
    "CLASS_NAMES_YEAR = np.array(np.unique([name for name in year]))"
   ]
  },
  {
   "cell_type": "code",
   "execution_count": null,
   "metadata": {},
   "outputs": [],
   "source": [
    "images = []\n",
    "label_make = []\n",
    "label_model = []\n",
    "label_year = []\n",
    "for i in range(len(train_paths)):\n",
    "    images.append(prepare_image(train_paths[i]))\n",
    "    label_make.append(get_label_make(i))\n",
    "    label_model.append(get_label_model(i))\n",
    "    label_year.append(get_label_year(i))\n",
    "images = np.array(images)\n",
    "label_make = np.array(label_make)\n",
    "label_model = np.array(label_model)\n",
    "label_year = np.array(label_year)"
   ]
  },
  {
   "cell_type": "code",
   "execution_count": null,
   "metadata": {},
   "outputs": [],
   "source": [
    "makes = []\n",
    "for i in range(len(label_make)):\n",
    "    for j in range(len(label_make[i])):\n",
    "        if label_make[i][j] == True:\n",
    "            makes.append(j)\n",
    "models = []\n",
    "for i in range(len(label_model)):\n",
    "    for j in range(len(label_model[i])):\n",
    "        if label_model[i][j] == True:\n",
    "            models.append(j)\n",
    "years = []\n",
    "for i in range(len(label_year)):\n",
    "    for j in range(len(label_year[i])):\n",
    "        if label_year[i][j] == True:\n",
    "            years.append(j)"
   ]
  },
  {
   "cell_type": "code",
   "execution_count": null,
   "metadata": {},
   "outputs": [],
   "source": [
    "image_input = keras.Input(shape=(220, 440, 3), name='image')\n",
    "x = layers.Conv2D(32, (3, 3), activation='relu')(image_input)\n",
    "x = layers.MaxPooling2D()(x)\n",
    "x = layers.Conv2D(32, (3, 3), activation='relu')(x)\n",
    "x = layers.MaxPooling2D()(x)\n",
    "x = layers.Flatten()(x)\n",
    "x = layers.Dense(64, activation='relu')(x)\n",
    "x = layers.Dense(64, activation='relu')(x)\n",
    "\n",
    "output_make = layers.Dense(len(CLASS_NAMES_MAKE), activation='softmax', name='output_make')(x)\n",
    "output_model = layers.Dense(len(CLASS_NAMES_MODEL), activation='softmax', name='output_model')(x)\n",
    "output_year = layers.Dense(len(CLASS_NAMES_YEAR), activation='softmax', name='output_year')(x)\n",
    "\n",
    "model = keras.Model(inputs=image_input, outputs=[output_make, output_model, output_year], name='cars_model')\n",
    "\n",
    "parallel_model = multi_gpu_model(model, gpus=4) #change to your number of availible gpus"
   ]
  },
  {
   "cell_type": "code",
   "execution_count": null,
   "metadata": {},
   "outputs": [],
   "source": [
    "parallel_model.compile(optimizer='adam',\n",
    "              loss='sparse_categorical_crossentropy')"
   ]
  },
  {
   "cell_type": "code",
   "execution_count": null,
   "metadata": {},
   "outputs": [],
   "source": [
    "plot_losses = PlotLossesCallback()\n",
    "parallel_model.fit(images, [makes, models, years],\n",
    "                   epochs = 20,\n",
    "                   batch_size = BATCH_SIZE,\n",
    "                   callbacks=[plot_losses],\n",
    "                   validation_split=0.2)"
   ]
  }
 ],
 "metadata": {
  "kernelspec": {
   "display_name": "Python 3",
   "language": "python",
   "name": "python3"
  },
  "language_info": {
   "codemirror_mode": {
    "name": "ipython",
    "version": 3
   },
   "file_extension": ".py",
   "mimetype": "text/x-python",
   "name": "python",
   "nbconvert_exporter": "python",
   "pygments_lexer": "ipython3",
   "version": "3.7.6"
  }
 },
 "nbformat": 4,
 "nbformat_minor": 2
}
